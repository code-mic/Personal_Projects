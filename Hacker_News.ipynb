{
  "nbformat": 4,
  "nbformat_minor": 0,
  "metadata": {
    "colab": {
      "name": "Hacker News.ipynb",
      "provenance": [],
      "toc_visible": true,
      "authorship_tag": "ABX9TyNDvtlQNcrP/iPtkJ4r9F0S",
      "include_colab_link": true
    },
    "kernelspec": {
      "name": "python3",
      "display_name": "Python 3"
    }
  },
  "cells": [
    {
      "cell_type": "markdown",
      "metadata": {
        "id": "view-in-github",
        "colab_type": "text"
      },
      "source": [
        "<a href=\"https://colab.research.google.com/github/m-sasota/FreeCodeCamp/blob/master/Hacker_News.ipynb\" target=\"_parent\"><img src=\"https://colab.research.google.com/assets/colab-badge.svg\" alt=\"Open In Colab\"/></a>"
      ]
    },
    {
      "cell_type": "markdown",
      "metadata": {
        "id": "qgOWQPMzcBCc"
      },
      "source": [
        "# Hacker News\n",
        "\n",
        "Introduction:\n",
        "\n",
        "For this project we will be looking into Hacker News. This site that was started by a startup incubator [Y Combinator](https://www.ycombinator.com/). We will be observing the following questions with this [dataset](https://www.kaggle.com/hacker-news/hacker-news-posts):\n",
        "\n",
        "- Do __Ask HN__ or __Show HN__ recieve more comments on average?\n",
        "- Do posts created at a certain time recieve more comments on average?\n",
        "\n",
        "This data set also has some descriptions of the columns:\n",
        "\n",
        "- __id__ : The unique identifier from Hacker News for the post\n",
        "- __title__: The title of the post\n",
        "- __url__: The URL that the posts links to, if the post has a URL\n",
        "- __num_points__: The number of points the post acquired, calculated as the total - number of upvotes minus the total number of downvotes\n",
        "- __num_comments__: The number of comments that were made on the post\n",
        "- __author__: The username of the person who submitted the post\n",
        "- __created_at__: The date and time at which the post was submitted\n"
      ]
    },
    {
      "cell_type": "code",
      "metadata": {
        "id": "mhkVA1-BdZzm",
        "colab": {
          "base_uri": "https://localhost:8080/"
        },
        "outputId": "26853f15-718e-42ad-d3b3-5b2c1bd735d8"
      },
      "source": [
        "from csv import reader\n",
        "\n",
        "csv_filename = 'hacker_news.csv'\n",
        "\n",
        "open_file = open(csv_filename)\n",
        "read_file = reader(open_file)\n",
        "hn = list(read_file)\n",
        "\n",
        "hn[:5]"
      ],
      "execution_count": 3,
      "outputs": [
        {
          "output_type": "execute_result",
          "data": {
            "text/plain": [
              "[['id', 'title', 'url', 'num_points', 'num_comments', 'author', 'created_at'],\n",
              " ['12579008',\n",
              "  'You have two days to comment if you want stem cells to be classified as your own',\n",
              "  'http://www.regulations.gov/document?D=FDA-2015-D-3719-0018',\n",
              "  '1',\n",
              "  '0',\n",
              "  'altstar',\n",
              "  '9/26/2016 3:26'],\n",
              " ['12579005',\n",
              "  'SQLAR  the SQLite Archiver',\n",
              "  'https://www.sqlite.org/sqlar/doc/trunk/README.md',\n",
              "  '1',\n",
              "  '0',\n",
              "  'blacksqr',\n",
              "  '9/26/2016 3:24'],\n",
              " ['12578997',\n",
              "  'What if we just printed a flatscreen television on the side of our boxes?',\n",
              "  'https://medium.com/vanmoof/our-secrets-out-f21c1f03fdc8#.ietxmez43',\n",
              "  '1',\n",
              "  '0',\n",
              "  'pavel_lishin',\n",
              "  '9/26/2016 3:19'],\n",
              " ['12578989',\n",
              "  'algorithmic music',\n",
              "  'http://cacm.acm.org/magazines/2011/7/109891-algorithmic-composition/fulltext',\n",
              "  '1',\n",
              "  '0',\n",
              "  'poindontcare',\n",
              "  '9/26/2016 3:16']]"
            ]
          },
          "metadata": {
            "tags": []
          },
          "execution_count": 3
        }
      ]
    },
    {
      "cell_type": "markdown",
      "metadata": {
        "id": "BbwQWRxQd_Uu"
      },
      "source": [
        "### Removing Headers from a List of Lists\n",
        "\n",
        " If we observe the first five rows of __hn__ we can see that it also includes the header. Before we go ahead with the filtering we must separate the header from the rest of the rows in the list of lists."
      ]
    },
    {
      "cell_type": "code",
      "metadata": {
        "colab": {
          "base_uri": "https://localhost:8080/"
        },
        "id": "E1cnBPC9eupK",
        "outputId": "d5e8c8f6-091a-438f-f8f1-64d2493e494c"
      },
      "source": [
        "header = hn[0]\n",
        "\n",
        "hn = hn[1:]\n",
        "\n",
        "hn[:5]"
      ],
      "execution_count": 4,
      "outputs": [
        {
          "output_type": "execute_result",
          "data": {
            "text/plain": [
              "[['12579008',\n",
              "  'You have two days to comment if you want stem cells to be classified as your own',\n",
              "  'http://www.regulations.gov/document?D=FDA-2015-D-3719-0018',\n",
              "  '1',\n",
              "  '0',\n",
              "  'altstar',\n",
              "  '9/26/2016 3:26'],\n",
              " ['12579005',\n",
              "  'SQLAR  the SQLite Archiver',\n",
              "  'https://www.sqlite.org/sqlar/doc/trunk/README.md',\n",
              "  '1',\n",
              "  '0',\n",
              "  'blacksqr',\n",
              "  '9/26/2016 3:24'],\n",
              " ['12578997',\n",
              "  'What if we just printed a flatscreen television on the side of our boxes?',\n",
              "  'https://medium.com/vanmoof/our-secrets-out-f21c1f03fdc8#.ietxmez43',\n",
              "  '1',\n",
              "  '0',\n",
              "  'pavel_lishin',\n",
              "  '9/26/2016 3:19'],\n",
              " ['12578989',\n",
              "  'algorithmic music',\n",
              "  'http://cacm.acm.org/magazines/2011/7/109891-algorithmic-composition/fulltext',\n",
              "  '1',\n",
              "  '0',\n",
              "  'poindontcare',\n",
              "  '9/26/2016 3:16'],\n",
              " ['12578979',\n",
              "  'How the Data Vault Enables the Next-Gen Data Warehouse and Data Lake',\n",
              "  'https://www.talend.com/blog/2016/05/12/talend-and-Â\\x93the-data-vaultÂ\\x94',\n",
              "  '1',\n",
              "  '0',\n",
              "  'markgainor1',\n",
              "  '9/26/2016 3:14']]"
            ]
          },
          "metadata": {
            "tags": []
          },
          "execution_count": 4
        }
      ]
    },
    {
      "cell_type": "code",
      "metadata": {
        "id": "ZpSjTFPaeysB"
      },
      "source": [
        ""
      ],
      "execution_count": null,
      "outputs": []
    }
  ]
}